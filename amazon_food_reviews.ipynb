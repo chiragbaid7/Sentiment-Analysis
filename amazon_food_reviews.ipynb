{
  "nbformat": 4,
  "nbformat_minor": 0,
  "metadata": {
    "kernelspec": {
      "name": "python3",
      "display_name": "Python 3"
    },
    "language_info": {
      "pygments_lexer": "ipython3",
      "nbconvert_exporter": "python",
      "version": "3.6.4",
      "file_extension": ".py",
      "codemirror_mode": {
        "name": "ipython",
        "version": 3
      },
      "name": "python",
      "mimetype": "text/x-python"
    },
    "colab": {
      "name": "amazon food reviews.ipynb",
      "provenance": [],
      "collapsed_sections": [],
      "toc_visible": true,
      "machine_shape": "hm"
    }
  },
  "cells": [
    {
      "cell_type": "markdown",
      "metadata": {
        "id": "qMcRBizKjOsv",
        "colab_type": "text"
      },
      "source": [
        "**OBJECTIVE:**\n",
        "Amazon Text Classification using KNN"
      ]
    },
    {
      "cell_type": "markdown",
      "metadata": {
        "id": "iNJpZVLbjOsy",
        "colab_type": "text"
      },
      "source": [
        "# Amazon Fine Food Reviews Analysis\n",
        "Number of reviews: 568,454<br>\n",
        "Number of users: 256,059<br>\n",
        "Number of products: 74,258<br>\n",
        "Timespan: Oct 1999 - Oct 2012<br>\n",
        "Number of Attributes/Columns in data: 10 \n",
        "\n",
        "Attribute Information:\n",
        "\n",
        "1. Id\n",
        "2. ProductId - unique identifier for the product\n",
        "3. UserId - unqiue identifier for the user\n",
        "4. ProfileName\n",
        "5. HelpfulnessNumerator - number of users who found the review helpful\n",
        "6. HelpfulnessDenominator - number of users who indicated whether they found the review helpful or not\n",
        "7. Score - rating between 1 and 5\n",
        "8. Time - timestamp for the review\n",
        "9. Summary - brief summary of the review\n",
        "10. Text - text of the review\n",
        "\n"
      ]
    },
    {
      "cell_type": "code",
      "metadata": {
        "id": "PT4N86Ky-jQe",
        "colab_type": "code",
        "colab": {}
      },
      "source": [
        "from google.colab import drive\n",
        "drive.mount('/content/drive')"
      ],
      "execution_count": null,
      "outputs": []
    },
    {
      "cell_type": "code",
      "metadata": {
        "_uuid": "2c08dba7-902c-43d9-bc80-7cae905af5c6",
        "_cell_guid": "c9188e62-1b56-48e8-8f8a-4764209c8027",
        "trusted": true,
        "id": "UbFxYqtvjOs0",
        "colab_type": "code",
        "colab": {}
      },
      "source": [
        "import pandas as pd\n",
        "import numpy as np\n",
        "import re\n",
        "import sqlite3\n",
        "import nltk\n",
        "import matplotlib.pyplot as plt\n",
        "\n",
        "from nltk.corpus import stopwords #to remove common words\n",
        "from nltk.stem import SnowballStemmer #root form of words\n",
        "from nltk.corpus import words\n",
        " \n",
        "from sklearn.feature_extraction.text import CountVectorizer #bagofwords\n",
        "from sklearn.feature_extraction.text import TfidfVectorizer\n",
        "from sklearn.model_selection import train_test_split\n",
        "from sklearn.model_selection import cross_val_score #to avoid overfitting\n",
        "from sklearn.preprocessing import StandardScaler #Pre-Processing\n",
        "from sklearn.preprocessing import normalize\n",
        "from sklearn.metrics import accuracy_score\n",
        "\n",
        "nltk.download('stopwords')\n",
        "nltk.download('wordnet')"
      ],
      "execution_count": null,
      "outputs": []
    },
    {
      "cell_type": "markdown",
      "metadata": {
        "id": "Tx9B0DEHjOs-",
        "colab_type": "text"
      },
      "source": [
        "**Loading the data**"
      ]
    },
    {
      "cell_type": "code",
      "metadata": {
        "trusted": true,
        "id": "9FvmpTb1jOtJ",
        "colab_type": "code",
        "colab": {
          "base_uri": "https://localhost:8080/",
          "height": 279
        },
        "outputId": "4b8beab8-2818-43cb-8da4-bde52585c1f8"
      },
      "source": [
        "#1. connect to the database\n",
        "conn=sqlite3.connect('/content/drive/My Drive/database.sqlite')\n",
        "#2.read from sql file using pandas\n",
        "food_data=pd.read_sql('SELECT * FROM Reviews where Score!=3',con=conn)\n",
        "#3.Product with score less than 3 is considered as negative and between 4 and 5 as Positive\n",
        "food_data['Score']=food_data['Score'].map(lambda x:0 if x<3 else 1 )\n",
        "ax=food_data['Score'].value_counts().plot(kind='bar')\n",
        "print(food_data.shape)\n",
        "#observation:the datset is imbalanced"
      ],
      "execution_count": null,
      "outputs": [
        {
          "output_type": "stream",
          "text": [
            "(525814, 10)\n"
          ],
          "name": "stdout"
        },
        {
          "output_type": "display_data",
          "data": {
            "image/png": "[encoded data removed]",
            "text/plain": [
              "<Figure size 432x288 with 1 Axes>"
            ]
          },
          "metadata": {
            "tags": [],
            "needs_background": "light"
          }
        }
      ]
    },
    {
      "cell_type": "code",
      "metadata": {
        "id": "MGePtLag87O3",
        "colab_type": "code",
        "colab": {
          "base_uri": "https://localhost:8080/",
          "height": 68
        },
        "outputId": "a30ded7b-4a33-4fdd-f600-a19ad663bfe8"
      },
      "source": [
        "food_data['Score'].value_counts(normalize=True)"
      ],
      "execution_count": null,
      "outputs": [
        {
          "output_type": "execute_result",
          "data": {
            "text/plain": [
              "1    0.843981\n",
              "0    0.156019\n",
              "Name: Score, dtype: float64"
            ]
          },
          "metadata": {
            "tags": []
          },
          "execution_count": 27
        }
      ]
    },
    {
      "cell_type": "markdown",
      "metadata": {
        "id": "fe5qdahGH236",
        "colab_type": "text"
      },
      "source": [
        ""
      ]
    },
    {
      "cell_type": "code",
      "metadata": {
        "trusted": true,
        "id": "Sw6HpWtIjOtR",
        "colab_type": "code",
        "colab": {}
      },
      "source": [
        "#For same Prodcut reviews are repeating which should be removed inorder to \n",
        "pd.read_sql_query('SELECT * FROM Reviews where UserId=\"A2725IB4YY9JEB\" order by ProductId',conn)"
      ],
      "execution_count": null,
      "outputs": []
    },
    {
      "cell_type": "markdown",
      "metadata": {
        "id": "ePYsza1OjOtd",
        "colab_type": "text"
      },
      "source": [
        "** Data Cleaning**\n",
        "1. Sort reviews by ProductId\n",
        "2. Remove duplicates reviews \n",
        "3. HelpfulnessDeno>HelpfulnessNum"
      ]
    },
    {
      "cell_type": "code",
      "metadata": {
        "trusted": true,
        "id": "C0PL2BctjOth",
        "colab_type": "code",
        "colab": {
          "base_uri": "https://localhost:8080/",
          "height": 34
        },
        "outputId": "6dc5ca72-b095-4efb-91b3-4a6fda82a70f"
      },
      "source": [
        "#1.Sort \n",
        "sort_food_data=food_data.sort_values(by=['ProductId'],kind='quicksort')\n",
        "#2.Delete Duplicates\n",
        "food_reviews=sort_food_data.drop_duplicates(subset=['Score','Summary','Time'],keep='first')\n",
        "#3.HelfullnessDenominator<HelfulnessNumerator\n",
        "food_reviews=food_reviews[food_reviews['HelpfulnessNumerator']<=food_reviews['HelpfulnessDenominator']]\n",
        "food_reviews.shape"
      ],
      "execution_count": null,
      "outputs": [
        {
          "output_type": "execute_result",
          "data": {
            "text/plain": [
              "(358005, 10)"
            ]
          },
          "metadata": {
            "tags": []
          },
          "execution_count": 29
        }
      ]
    },
    {
      "cell_type": "markdown",
      "metadata": {
        "id": "cbxys_pBjOtr",
        "colab_type": "text"
      },
      "source": [
        "**Text Preprocessing**\n",
        "\n",
        "1. Removal html tags\n",
        "2. Removal stopwords\n",
        "3. Removal lowercase words\n",
        "3. Stemming-root form of words\n",
        "4. Removal of punctuations\n",
        "5. Removal of \n",
        "6. Removal of words whose length is less than 2 \n",
        "7. Lemmatization "
      ]
    },
    {
      "cell_type": "code",
      "metadata": {
        "trusted": true,
        "colab_type": "code",
        "id": "enWOLVN8gQ3f",
        "colab": {}
      },
      "source": [
        "stop_words=set(stopwords.words('english'))\n",
        "sno=SnowballStemmer('english')\n",
        "def clean_html_punc(text):\n",
        "    clean_html=re.sub(re.compile(r'<.*?>'),\" \",text)\n",
        "    clean_repeat=re.sub(re.compile(r'(.)\\1{3,}\\w*'),' ',clean_html)\n",
        "    clean_punc=re.sub(re.compile(r'[^\\w\\s]'),\" \",clean_repeat)\n",
        "    return clean_punc\n",
        "final_reviews=[]\n",
        "for review in food_reviews['Text'].values:\n",
        "    filtered_sentence=[]\n",
        "    list_words=clean_html_punc(review)\n",
        "    for word in list_words.split():\n",
        "        if word.lower() not in stop_words and len(word)>2 and word.isalpha(): \n",
        "            new_word=(sno.stem(word.lower())).encode('utf8')\n",
        "            filtered_sentence.append(new_word)\n",
        "    s=b' '.join(filtered_sentence)\n",
        "    final_reviews.append(s) \n",
        "food_reviews['clean_text']=final_reviews\n",
        "food_reviews['clean_text']=food_reviews['clean_text'].str.decode('utf-8')\n",
        "food_reviews"
      ],
      "execution_count": null,
      "outputs": []
    },
    {
      "cell_type": "code",
      "metadata": {
        "id": "pqJRcD0utqUa",
        "colab_type": "code",
        "colab": {}
      },
      "source": [
        "#time based split\n",
        "food_reviews=food_reviews.sort_values(by=\"Time\",inplace=False,ascending=True,kind='quicksort')"
      ],
      "execution_count": null,
      "outputs": []
    },
    {
      "cell_type": "code",
      "metadata": {
        "id": "I-sQZJaFRn2V",
        "colab_type": "code",
        "colab": {
          "base_uri": "https://localhost:8080/",
          "height": 68
        },
        "outputId": "19b9ff04-daa8-4774-c2d1-a808d14ff231"
      },
      "source": [
        "food_reviews.Score.value_counts()"
      ],
      "execution_count": null,
      "outputs": [
        {
          "output_type": "execute_result",
          "data": {
            "text/plain": [
              "1    301162\n",
              "0     56843\n",
              "Name: Score, dtype: int64"
            ]
          },
          "metadata": {
            "tags": []
          },
          "execution_count": 32
        }
      ]
    },
    {
      "cell_type": "markdown",
      "metadata": {
        "id": "3Rct9aCAXJat",
        "colab_type": "text"
      },
      "source": [
        "# Bag Of Words"
      ]
    },
    {
      "cell_type": "code",
      "metadata": {
        "id": "mgkBmWB-Q9vt",
        "colab_type": "code",
        "colab": {}
      },
      "source": [
        "#split data to train and test\n",
        "x,y=food_reviews['clean_text'].values,food_reviews.Score.values\n",
        "x_train,x_test,y_train,y_test=train_test_split(x,y,test_size=0.3,random_state=0)\n",
        "\n",
        "bow=CountVectorizer(min_df=5) #Binary BOW\n",
        "x_train=bow.fit_transform(x_train)#learn vocabulary\n",
        "x_test=bow.transform(x_test)#learn vocab from x_train to return same size sparse matrix"
      ],
      "execution_count": null,
      "outputs": []
    },
    {
      "cell_type": "markdown",
      "metadata": {
        "id": "yS5vsDg7tnc1",
        "colab_type": "text"
      },
      "source": [
        "**Logistic Regression**\n"
      ]
    },
    {
      "cell_type": "code",
      "metadata": {
        "id": "HTCMpXmDTGI4",
        "colab_type": "code",
        "colab": {
          "base_uri": "https://localhost:8080/",
          "height": 190
        },
        "outputId": "0675623b-3a65-4f62-de13-9dc8a81b0036"
      },
      "source": [
        "from sklearn.linear_model import LogisticRegression\n",
        "LR = LogisticRegression(max_iter=200)\n",
        "LR.fit(x_train, y_train)\n",
        "predict=LR.predict(x_test)\n",
        "accuracy=accuracy_score(y_test,predict,normalize=True)\n",
        "accuracy"
      ],
      "execution_count": null,
      "outputs": [
        {
          "output_type": "stream",
          "text": [
            "/usr/local/lib/python3.6/dist-packages/sklearn/linear_model/_logistic.py:940: ConvergenceWarning: lbfgs failed to converge (status=1):\n",
            "STOP: TOTAL NO. of ITERATIONS REACHED LIMIT.\n",
            "\n",
            "Increase the number of iterations (max_iter) or scale the data as shown in:\n",
            "    https://scikit-learn.org/stable/modules/preprocessing.html\n",
            "Please also refer to the documentation for alternative solver options:\n",
            "    https://scikit-learn.org/stable/modules/linear_model.html#logistic-regression\n",
            "  extra_warning_msg=_LOGISTIC_SOLVER_CONVERGENCE_MSG)\n"
          ],
          "name": "stderr"
        },
        {
          "output_type": "execute_result",
          "data": {
            "text/plain": [
              "0.9202063276289082"
            ]
          },
          "metadata": {
            "tags": []
          },
          "execution_count": 68
        }
      ]
    },
    {
      "cell_type": "code",
      "metadata": {
        "id": "cS_-rYSdUM2L",
        "colab_type": "code",
        "colab": {
          "base_uri": "https://localhost:8080/",
          "height": 153
        },
        "outputId": "017ed3d6-4ea5-41aa-9b1b-5a65ad3f77df"
      },
      "source": [
        "feature_names = np.array(bow.get_feature_names())\n",
        "sorted_coef_index = LR.coef_[0].argsort()\n",
        "print('Smallest Coefs: \\n{}\\n'.format(feature_names[sorted_coef_index[:10]]))\n",
        "print('Largest Coefs: \\n{}\\n'.format(feature_names[sorted_coef_index[:-11:-1]]))"
      ],
      "execution_count": null,
      "outputs": [
        {
          "output_type": "stream",
          "text": [
            "Smallest Coefs: \n",
            "['weakest' 'compass' 'emptor' 'worst' 'holl' 'ick' 'unimpress' 'argan'\n",
            " 'unaccept' 'downhil']\n",
            "\n",
            "Largest Coefs: \n",
            "['smoothest' 'skeptic' 'downsid' 'awsom' 'finest' 'terrif' 'swore'\n",
            " 'conjunct' 'repack' 'fascin']\n",
            "\n"
          ],
          "name": "stdout"
        }
      ]
    },
    {
      "cell_type": "code",
      "metadata": {
        "id": "13QL2abtVxRR",
        "colab_type": "code",
        "colab": {
          "base_uri": "https://localhost:8080/",
          "height": 34
        },
        "outputId": "5a126396-b3d9-421e-f693-1b6fee494c09"
      },
      "source": [
        "print(LR.predict(bow.transform(['worst pizza ever','The candy is not bad, I will buy them again'])))"
      ],
      "execution_count": null,
      "outputs": [
        {
          "output_type": "stream",
          "text": [
            "[0 1]\n"
          ],
          "name": "stdout"
        }
      ]
    },
    {
      "cell_type": "markdown",
      "metadata": {
        "id": "0lHQJ-R95OTh",
        "colab_type": "text"
      },
      "source": [
        "# TF-IDF"
      ]
    },
    {
      "cell_type": "code",
      "metadata": {
        "id": "59Toy2vSBhD6",
        "colab_type": "code",
        "colab": {}
      },
      "source": [
        "#split data to train and test\n",
        "x,y=food_reviews['clean_text'].values,food_reviews.Score.values\n",
        "x_train,x_test,y_train,y_test=train_test_split(x,y,test_size=0.3,random_state=0)\n",
        "\n",
        "#tf\n",
        "tf_idf=TfidfVectorizer(smooth_idf=True,ngram_range=(1,2),min_df=5)\n",
        "x_train=tf_idf.fit_transform(x_train)\n",
        "x_test=tf_idf.transform(x_test)"
      ],
      "execution_count": null,
      "outputs": []
    },
    {
      "cell_type": "code",
      "metadata": {
        "id": "cadn_vkj4mt4",
        "colab_type": "code",
        "colab": {
          "base_uri": "https://localhost:8080/",
          "height": 34
        },
        "outputId": "7a819f0e-6eb5-420d-87a6-7a271bc06eed"
      },
      "source": [
        "from sklearn.linear_model import LogisticRegression\n",
        "model = LogisticRegression(max_iter=200)\n",
        "model.fit(x_train, y_train)\n",
        "predict=model.predict(x_test)\n",
        "accuracy=accuracy_score(y_test,predict,normalize=True)\n",
        "accuracy"
      ],
      "execution_count": null,
      "outputs": [
        {
          "output_type": "execute_result",
          "data": {
            "text/plain": [
              "0.9286698571721197"
            ]
          },
          "metadata": {
            "tags": []
          },
          "execution_count": 73
        }
      ]
    },
    {
      "cell_type": "code",
      "metadata": {
        "id": "Jqs7N1CX5umh",
        "colab_type": "code",
        "colab": {
          "base_uri": "https://localhost:8080/",
          "height": 153
        },
        "outputId": "f1b6508d-0f02-4ff1-f3b9-4344df05d0c4"
      },
      "source": [
        "feature_names = np.array(tf_idf.get_feature_names())\n",
        "sorted_coef_index = model.coef_[0].argsort()\n",
        "print('Smallest Coefs: \\n{}\\n'.format(feature_names[sorted_coef_index[:10]]))\n",
        "print('Largest Coefs: \\n{}\\n'.format(feature_names[sorted_coef_index[:-11:-1]]))"
      ],
      "execution_count": null,
      "outputs": [
        {
          "output_type": "stream",
          "text": [
            "Smallest Coefs: \n",
            "['disappoint' 'worst' 'terribl' 'return' 'aw' 'horribl' 'unfortun' 'stale'\n",
            " 'bland' 'threw']\n",
            "\n",
            "Largest Coefs: \n",
            "['great' 'best' 'delici' 'love' 'perfect' 'excel' 'high recommend' 'nice'\n",
            " 'good' 'amaz']\n",
            "\n"
          ],
          "name": "stdout"
        }
      ]
    }
  ]
}